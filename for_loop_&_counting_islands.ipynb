{
 "cells": [
  {
   "cell_type": "code",
   "execution_count": 1,
   "id": "86a50662",
   "metadata": {},
   "outputs": [
    {
     "name": "stdout",
     "output_type": "stream",
     "text": [
      "CPU times: total: 0 ns\n",
      "Wall time: 0 ns\n",
      "6\n"
     ]
    }
   ],
   "source": [
    "%time\n",
    "\n",
    "\n",
    "N = 3\n",
    "  \n",
    "for i in range(1,N):\n",
    "  if N in range(1, 10**25):\n",
    "    N += i\n",
    "print(N)"
   ]
  },
  {
   "cell_type": "code",
   "execution_count": 2,
   "id": "970332af",
   "metadata": {},
   "outputs": [
    {
     "name": "stdout",
     "output_type": "stream",
     "text": [
      "[[0. 1. 0. 0.]\n",
      " [0. 0. 1. 0.]\n",
      " [0. 0. 0. 1.]\n",
      " [0. 0. 0. 0.]\n",
      " [0. 0. 0. 0.]]\n",
      "Number of islands in matrix is:  3\n"
     ]
    },
    {
     "data": {
      "text/plain": [
       "'\\nlarger_matrix = np.array(random.choices(nature, k = 50))\\nprint(larger_matrix)\\nn = 4\\nm = 5\\nprint(np.reshape(np.matrix(larger_matrix.flatten(),size = n*m),(n,m)))\\n'"
      ]
     },
     "execution_count": 2,
     "metadata": {},
     "output_type": "execute_result"
    }
   ],
   "source": [
    "# 1- island\n",
    "# 0 - ocean\n",
    "\n",
    "import numpy as np\n",
    "import random\n",
    "import pandas as pd\n",
    "\n",
    "m = 5\n",
    "n = 4\n",
    "x = np.eye(m,n, k=1)\n",
    "\n",
    "print(x)\n",
    "\n",
    "print('Number of islands in matrix is: ', np.count_nonzero(x ==1))\n",
    "'''\n",
    "larger_matrix = np.array(random.choices(nature, k = 50))\n",
    "print(larger_matrix)\n",
    "n = 4\n",
    "m = 5\n",
    "print(np.reshape(np.matrix(larger_matrix.flatten(),size = n*m),(n,m)))\n",
    "'''"
   ]
  },
  {
   "cell_type": "code",
   "execution_count": null,
   "id": "bc571a44",
   "metadata": {},
   "outputs": [],
   "source": []
  }
 ],
 "metadata": {
  "kernelspec": {
   "display_name": "Python 3 (ipykernel)",
   "language": "python",
   "name": "python3"
  },
  "language_info": {
   "codemirror_mode": {
    "name": "ipython",
    "version": 3
   },
   "file_extension": ".py",
   "mimetype": "text/x-python",
   "name": "python",
   "nbconvert_exporter": "python",
   "pygments_lexer": "ipython3",
   "version": "3.9.12"
  }
 },
 "nbformat": 4,
 "nbformat_minor": 5
}
